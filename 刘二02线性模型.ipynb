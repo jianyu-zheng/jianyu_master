{
  "nbformat": 4,
  "nbformat_minor": 0,
  "metadata": {
    "colab": {
      "name": "刘二02线性模型.ipynb",
      "provenance": [],
      "collapsed_sections": [],
      "authorship_tag": "ABX9TyOt4sSjzqmF5dAK/hplnFi2",
      "include_colab_link": true
    },
    "kernelspec": {
      "name": "python3",
      "display_name": "Python 3"
    },
    "language_info": {
      "name": "python"
    }
  },
  "cells": [
    {
      "cell_type": "markdown",
      "metadata": {
        "id": "view-in-github",
        "colab_type": "text"
      },
      "source": [
        "<a href=\"https://colab.research.google.com/github/jianyu-zheng/jianyu_master/blob/main/%E5%88%98%E4%BA%8C02%E7%BA%BF%E6%80%A7%E6%A8%A1%E5%9E%8B.ipynb\" target=\"_parent\"><img src=\"https://colab.research.google.com/assets/colab-badge.svg\" alt=\"Open In Colab\"/></a>"
      ]
    },
    {
      "cell_type": "markdown",
      "metadata": {
        "id": "1S3TXuk5mx-E"
      },
      "source": [
        "导入numpy和matplotlib库，用来绘图"
      ]
    },
    {
      "cell_type": "code",
      "metadata": {
        "id": "KIMMWypukOty"
      },
      "source": [
        "import numpy as np\n",
        "import matplotlib.pyplot as plt"
      ],
      "execution_count": 1,
      "outputs": []
    },
    {
      "cell_type": "markdown",
      "metadata": {
        "id": "ggs253b6m5hp"
      },
      "source": [
        "保存x,y的数据，一般x,y分开保存，相同的索引对应一对样本"
      ]
    },
    {
      "cell_type": "code",
      "metadata": {
        "id": "UONDhJypllOk"
      },
      "source": [
        "x_data = [1.0,2.0,3.0]\n",
        "y_data = [2.0,4.0,6.0]"
      ],
      "execution_count": 2,
      "outputs": []
    },
    {
      "cell_type": "markdown",
      "metadata": {
        "id": "0yBgpbJmm7Ep"
      },
      "source": [
        "定义一个模型，名字为forward，并且forward(x) = x * w"
      ]
    },
    {
      "cell_type": "code",
      "metadata": {
        "id": "Tcxd6nZNl3p6"
      },
      "source": [
        "def forward(x):\n",
        "  return x * w"
      ],
      "execution_count": 3,
      "outputs": []
    },
    {
      "cell_type": "markdown",
      "metadata": {
        "id": "QqQ3IGZ2m6Cd"
      },
      "source": [
        "定义损失函数loss，![11.png](data:image/png;base64,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)"
      ]
    },
    {
      "cell_type": "code",
      "metadata": {
        "id": "JOOJD4ayl_bJ"
      },
      "source": [
        "def loss(x,y):\n",
        "  y_pred = forward(x)\n",
        "  return (y_pred - y)*(y_pred - y)"
      ],
      "execution_count": 4,
      "outputs": []
    },
    {
      "cell_type": "markdown",
      "metadata": {
        "id": "weEuAd2xm8B4"
      },
      "source": [
        "创建两个空列表，保存权重"
      ]
    },
    {
      "cell_type": "code",
      "metadata": {
        "id": "2dVZLBVLmwhQ"
      },
      "source": [
        "w_list = []\n",
        "mse_list = []"
      ],
      "execution_count": 5,
      "outputs": []
    },
    {
      "cell_type": "code",
      "metadata": {
        "id": "56jr3EaItzSt"
      },
      "source": [
        "for w in np.arange(0.0,4.1,0.1):              #生成0.0，0.1......3.9，4.0的权重\n",
        "  print('w=',w)                       #直观效果就是:w=0.1,w=0.2             \n",
        "  l_sum = 0                        #loss值之和初始值为0\n",
        "  for x_val,y_val in zip(x_data,y_data):         #对于数据x,y中每个值val遍历一次\n",
        "    y_pred_val = forward(x_val)             \n",
        "    loss_val = loss(x_val,y_val)            #loss（x,y）的值赋予loss_val\n",
        "    l_sum += loss_val                  #loss_val 之和 累加为l_sum\n",
        "    print('\\t',x_val,y_val,y_pred_val,loss_val)      #输出x,y,y_hat,loss每次循环的值\n",
        "  print('MSE=',l_sum / 3)                 #输出MSE均值 \n",
        "  w_list.append(w)                     \n",
        "  mse_list.append(l_sum / 3)               #经过遍历输出的w和mse保存在空列表中      "
      ],
      "execution_count": null,
      "outputs": []
    },
    {
      "cell_type": "code",
      "metadata": {
        "colab": {
          "base_uri": "https://localhost:8080/",
          "height": 279
        },
        "id": "nzXTPAahv75V",
        "outputId": "914af7cb-e7e7-49bf-c037-b8b947a287f2"
      },
      "source": [
        "plt.plot(w_list,mse_list)         #用两个列表画出曲线图\n",
        "plt.ylabel('Loss')            #纵坐标表示为\n",
        "plt.xlabel('w')              #横坐标表示为\n",
        "plt.show()                #只把图show出来，去掉其余的无用的东西，可以不加这行命令运行一下就记住了"
      ],
      "execution_count": 10,
      "outputs": [
        {
          "output_type": "display_data",
          "data": {
            "image/png": "[encoded data removed]",
            "text/plain": [
              "<Figure size 432x288 with 1 Axes>"
            ]
          },
          "metadata": {
            "needs_background": "light"
          }
        }
      ]
    }
  ]
}